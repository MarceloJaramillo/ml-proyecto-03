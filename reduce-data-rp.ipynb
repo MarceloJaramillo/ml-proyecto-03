{
 "cells": [
  {
   "cell_type": "markdown",
   "metadata": {},
   "source": [
    "# Librerias"
   ]
  },
  {
   "cell_type": "code",
   "execution_count": 64,
   "metadata": {},
   "outputs": [],
   "source": [
    "import pandas as pd\n",
    "import numpy as np\n",
    "from sklearn.random_projection import GaussianRandomProjection"
   ]
  },
  {
   "cell_type": "markdown",
   "metadata": {},
   "source": [
    "# RP & r21d"
   ]
  },
  {
   "cell_type": "code",
   "execution_count": 65,
   "metadata": {},
   "outputs": [],
   "source": [
    "csv_path = './procesed-data/full/r21d.csv'\n",
    "data_r21d = pd.read_csv(csv_path)\n",
    "\n",
    "csv_path = './procesed-data-validation/full/r21d.csv'\n",
    "data_r21d_validation = pd.read_csv(csv_path, header=0)\n",
    "\n",
    "csv_path = './procesed-data-testing/full/r21d.csv'\n",
    "data_r21d_testing = pd.read_csv(csv_path, header=0)\n",
    "\n",
    "data_r21d_validation = data_r21d_validation.iloc[:, :-1]\n",
    "data_r21d_testing = data_r21d_testing.iloc[:, :-1]"
   ]
  },
  {
   "cell_type": "code",
   "execution_count": 66,
   "metadata": {},
   "outputs": [],
   "source": [
    "data_r21d_testing.columns = data_r21d.columns\n",
    "data_r21d_validation.columns = data_r21d.columns"
   ]
  },
  {
   "cell_type": "markdown",
   "metadata": {},
   "source": [
    "## Eliminando NaN"
   ]
  },
  {
   "cell_type": "code",
   "execution_count": 67,
   "metadata": {},
   "outputs": [
    {
     "name": "stdout",
     "output_type": "stream",
     "text": [
      "Número original de filas: 5415\n",
      "Número de filas después de eliminar NaN: 3234\n"
     ]
    }
   ],
   "source": [
    "# Eliminar filas que contienen cualquier NaN\n",
    "data_cleaned_r21d = data_r21d.dropna()\n",
    "\n",
    "print(f'Número original de filas: {len(data_r21d)}')\n",
    "print(f'Número de filas después de eliminar NaN: {len(data_cleaned_r21d)}')"
   ]
  },
  {
   "cell_type": "code",
   "execution_count": 68,
   "metadata": {},
   "outputs": [
    {
     "name": "stdout",
     "output_type": "stream",
     "text": [
      "Número original de filas: 426\n",
      "Número de filas después de eliminar NaN: 426\n"
     ]
    }
   ],
   "source": [
    "# Eliminar filas que contienen cualquier NaN\n",
    "data_cleaned_r21d_validation = data_r21d_validation.dropna()\n",
    "\n",
    "print(f'Número original de filas: {len(data_r21d_validation)}')\n",
    "print(f'Número de filas después de eliminar NaN: {len(data_cleaned_r21d_validation)}')"
   ]
  },
  {
   "cell_type": "code",
   "execution_count": 69,
   "metadata": {},
   "outputs": [
    {
     "name": "stdout",
     "output_type": "stream",
     "text": [
      "Número original de filas: 805\n",
      "Número de filas después de eliminar NaN: 805\n"
     ]
    }
   ],
   "source": [
    "# Eliminar filas que contienen cualquier NaN\n",
    "data_cleaned_r21d_testing = data_r21d_testing.dropna()\n",
    "\n",
    "print(f'Número original de filas: {len(data_r21d_testing)}')\n",
    "print(f'Número de filas después de eliminar NaN: {len(data_cleaned_r21d_testing)}')"
   ]
  },
  {
   "cell_type": "markdown",
   "metadata": {},
   "source": [
    "## Calculando la candidad de componentes con un error de 0.5"
   ]
  },
  {
   "cell_type": "code",
   "execution_count": 70,
   "metadata": {},
   "outputs": [
    {
     "name": "stdout",
     "output_type": "stream",
     "text": [
      "933\n"
     ]
    }
   ],
   "source": [
    "error = 0.5\n",
    "n = len(data_cleaned_r21d)\n",
    "k = int(np.ceil(20*np.log2(n) / (error**2)))\n",
    "print(k)"
   ]
  },
  {
   "cell_type": "code",
   "execution_count": 71,
   "metadata": {},
   "outputs": [],
   "source": [
    "rp_r21d = GaussianRandomProjection(n_components=k,  random_state=42) \n",
    "data_r21d_rp = rp_r21d.fit_transform(data_cleaned_r21d)"
   ]
  },
  {
   "cell_type": "code",
   "execution_count": 72,
   "metadata": {},
   "outputs": [],
   "source": [
    "data_r21d_validation_rp = rp_r21d.transform(data_cleaned_r21d_validation)"
   ]
  },
  {
   "cell_type": "code",
   "execution_count": 73,
   "metadata": {},
   "outputs": [],
   "source": [
    "data_r21d_testing_rp = rp_r21d.transform(data_cleaned_r21d_testing)"
   ]
  },
  {
   "cell_type": "markdown",
   "metadata": {},
   "source": [
    "## Guardar RP-r21d en CSV"
   ]
  },
  {
   "cell_type": "code",
   "execution_count": 74,
   "metadata": {},
   "outputs": [],
   "source": [
    "output_csv_path = './procesed-data/reduced/rp/r21d-cleaned.csv'\n",
    "np.savetxt(output_csv_path, data_r21d_rp, delimiter=',', header='', comments='')"
   ]
  },
  {
   "cell_type": "code",
   "execution_count": 75,
   "metadata": {},
   "outputs": [],
   "source": [
    "output_csv_path = './procesed-data-validation/reduced/rp/r21d-cleaned.csv'\n",
    "np.savetxt(output_csv_path, data_r21d_validation_rp, delimiter=',', header='', comments='')"
   ]
  },
  {
   "cell_type": "code",
   "execution_count": 76,
   "metadata": {},
   "outputs": [],
   "source": [
    "output_csv_path = './procesed-data-testing/reduced/rp/r21d-cleaned.csv'\n",
    "np.savetxt(output_csv_path, data_r21d_testing_rp, delimiter=',', header='', comments='')"
   ]
  },
  {
   "cell_type": "markdown",
   "metadata": {},
   "source": [
    "# RP & s3d"
   ]
  },
  {
   "cell_type": "code",
   "execution_count": 77,
   "metadata": {},
   "outputs": [],
   "source": [
    "csv_path = './procesed-data/full/s3d.csv'\n",
    "data_s3d = pd.read_csv(csv_path)\n",
    "\n",
    "\n",
    "csv_path = './procesed-data-validation/full/s3d.csv'\n",
    "data_s3d_validation = pd.read_csv(csv_path, header=0)\n",
    "\n",
    "csv_path = './procesed-data-testing/full/s3d.csv'\n",
    "data_s3d_testing = pd.read_csv(csv_path, header=0)\n",
    "\n",
    "\n",
    "data_s3d_validation = data_s3d_validation.iloc[:, :-1]\n",
    "data_s3d_testing = data_s3d_testing.iloc[:, :-1]"
   ]
  },
  {
   "cell_type": "code",
   "execution_count": 78,
   "metadata": {},
   "outputs": [],
   "source": [
    "data_s3d_testing.columns = data_s3d.columns\n",
    "data_s3d_validation.columns = data_s3d.columns"
   ]
  },
  {
   "cell_type": "markdown",
   "metadata": {},
   "source": [
    "## Eliminando NaN"
   ]
  },
  {
   "cell_type": "code",
   "execution_count": 79,
   "metadata": {},
   "outputs": [
    {
     "name": "stdout",
     "output_type": "stream",
     "text": [
      "Número original de filas: 4800\n",
      "Número de filas después de eliminar NaN: 4800\n"
     ]
    }
   ],
   "source": [
    "data_cleaned_s3d = data_s3d.dropna()\n",
    "\n",
    "print(f'Número original de filas: {len(data_cleaned_s3d)}')\n",
    "print(f'Número de filas después de eliminar NaN: {len(data_cleaned_s3d)}')"
   ]
  },
  {
   "cell_type": "code",
   "execution_count": 80,
   "metadata": {},
   "outputs": [
    {
     "name": "stdout",
     "output_type": "stream",
     "text": [
      "Número original de filas: 426\n",
      "Número de filas después de eliminar NaN: 426\n"
     ]
    }
   ],
   "source": [
    "# Eliminar filas que contienen cualquier NaN\n",
    "data_cleaned_s3d_validation = data_s3d_validation.dropna()\n",
    "\n",
    "print(f'Número original de filas: {len(data_s3d_validation)}')\n",
    "print(f'Número de filas después de eliminar NaN: {len(data_cleaned_s3d_validation)}')"
   ]
  },
  {
   "cell_type": "code",
   "execution_count": 81,
   "metadata": {},
   "outputs": [
    {
     "name": "stdout",
     "output_type": "stream",
     "text": [
      "Número original de filas: 805\n",
      "Número de filas después de eliminar NaN: 805\n"
     ]
    }
   ],
   "source": [
    "# Eliminar filas que contienen cualquier NaN\n",
    "data_cleaned_s3d_testing = data_s3d_testing.dropna()\n",
    "\n",
    "print(f'Número original de filas: {len(data_s3d_testing)}')\n",
    "print(f'Número de filas después de eliminar NaN: {len(data_cleaned_s3d_testing)}')"
   ]
  },
  {
   "cell_type": "markdown",
   "metadata": {},
   "source": [
    "## Calculando la candidad de componentes con un error de 0.5"
   ]
  },
  {
   "cell_type": "code",
   "execution_count": 82,
   "metadata": {},
   "outputs": [
    {
     "name": "stdout",
     "output_type": "stream",
     "text": [
      "979\n"
     ]
    }
   ],
   "source": [
    "error = 0.5\n",
    "n = len(data_cleaned_s3d)\n",
    "k = int(np.ceil(20*np.log2(n) / (error**2)))\n",
    "print(k)"
   ]
  },
  {
   "cell_type": "code",
   "execution_count": 83,
   "metadata": {},
   "outputs": [],
   "source": [
    "rp_s3d = GaussianRandomProjection(n_components=k,  random_state=42) \n",
    "data_s3d_rp = rp_s3d.fit_transform(data_cleaned_s3d)"
   ]
  },
  {
   "cell_type": "code",
   "execution_count": 84,
   "metadata": {},
   "outputs": [],
   "source": [
    "data_s3d_validation_rp = rp_s3d.transform(data_cleaned_s3d_validation)"
   ]
  },
  {
   "cell_type": "code",
   "execution_count": 85,
   "metadata": {},
   "outputs": [],
   "source": [
    "data_s3d_testing_rp = rp_s3d.transform(data_cleaned_s3d_testing)"
   ]
  },
  {
   "cell_type": "markdown",
   "metadata": {},
   "source": [
    "## Guardar RP-r21d en CSV"
   ]
  },
  {
   "cell_type": "code",
   "execution_count": 86,
   "metadata": {},
   "outputs": [],
   "source": [
    "output_csv_path = './procesed-data/reduced/rp/s3d-cleaned.csv'\n",
    "np.savetxt(output_csv_path, data_s3d_rp, delimiter=',', header='', comments='')"
   ]
  },
  {
   "cell_type": "code",
   "execution_count": 87,
   "metadata": {},
   "outputs": [],
   "source": [
    "output_csv_path = './procesed-data-validation/reduced/rp/s3d-cleaned.csv'\n",
    "np.savetxt(output_csv_path, data_s3d_validation_rp, delimiter=',', header='', comments='')"
   ]
  },
  {
   "cell_type": "code",
   "execution_count": 88,
   "metadata": {},
   "outputs": [],
   "source": [
    "output_csv_path = './procesed-data-validation/reduced/rp/s3d-cleaned.csv'\n",
    "np.savetxt(output_csv_path, data_s3d_validation_rp, delimiter=',', header='', comments='')"
   ]
  }
 ],
 "metadata": {
  "kernelspec": {
   "display_name": "env",
   "language": "python",
   "name": "python3"
  },
  "language_info": {
   "codemirror_mode": {
    "name": "ipython",
    "version": 3
   },
   "file_extension": ".py",
   "mimetype": "text/x-python",
   "name": "python",
   "nbconvert_exporter": "python",
   "pygments_lexer": "ipython3",
   "version": "3.10.12"
  }
 },
 "nbformat": 4,
 "nbformat_minor": 2
}
