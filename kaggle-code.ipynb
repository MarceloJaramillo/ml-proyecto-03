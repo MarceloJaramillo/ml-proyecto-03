{
 "cells": [
  {
   "cell_type": "markdown",
   "metadata": {},
   "source": [
    "# Librerías"
   ]
  },
  {
   "cell_type": "code",
   "execution_count": 47,
   "metadata": {},
   "outputs": [],
   "source": [
    "import pandas as pd\n",
    "import numpy as np\n",
    "import matplotlib.pyplot as plt\n",
    "from models.kmeans import KMeansClustering as KMeansOriginal\n",
    "from sklearn.preprocessing import LabelEncoder"
   ]
  },
  {
   "cell_type": "markdown",
   "metadata": {},
   "source": [
    "# Cargando data"
   ]
  },
  {
   "cell_type": "code",
   "execution_count": 48,
   "metadata": {},
   "outputs": [],
   "source": [
    "csv_path = './procesed-data/reduced/rp/r21d-cleaned.csv'\n",
    "data_r21d = pd.read_csv(csv_path, header=None)\n",
    "data_r21d = data_r21d.to_numpy()\n",
    "\n",
    "csv_path = './procesed-data-testing/reduced/rp/r21d-cleaned.csv'\n",
    "data_r21d_testing = pd.read_csv(csv_path, header=None)\n",
    "data_r21d_testing = data_r21d_testing.to_numpy()\n",
    "\n",
    "csv_path = './data/test_subset_10.csv'\n",
    "test_subset_10 = pd.read_csv(csv_path, header=0)"
   ]
  },
  {
   "cell_type": "code",
   "execution_count": 49,
   "metadata": {},
   "outputs": [],
   "source": [
    "csv_path = './procesed-data-testing/full/r21d.csv'\n",
    "labels = pd.read_csv(csv_path, header=0)\n",
    "labels = labels['Filename']\n",
    "labels = labels.str.split('_').str[0]"
   ]
  },
  {
   "cell_type": "code",
   "execution_count": 50,
   "metadata": {},
   "outputs": [],
   "source": [
    "filtered_df = pd.DataFrame(columns=test_subset_10.columns)\n",
    "\n",
    "for label in labels:\n",
    "    row = test_subset_10[test_subset_10['youtube_id'] == label]\n",
    "    filtered_df = pd.concat([filtered_df, row], ignore_index=True)"
   ]
  },
  {
   "cell_type": "markdown",
   "metadata": {},
   "source": [
    "# Kmeans"
   ]
  },
  {
   "cell_type": "code",
   "execution_count": 51,
   "metadata": {},
   "outputs": [
    {
     "data": {
      "text/plain": [
       "array([8, 7, 9, ..., 9, 7, 7])"
      ]
     },
     "execution_count": 51,
     "metadata": {},
     "output_type": "execute_result"
    }
   ],
   "source": [
    "k=10\n",
    "kmeans_original = KMeansOriginal(n_clusters=k, random_state=42)\n",
    "kmeans_original.fit(data_r21d, max_iterations=100000)"
   ]
  },
  {
   "cell_type": "code",
   "execution_count": 52,
   "metadata": {},
   "outputs": [],
   "source": [
    "predict_r21d = kmeans_original.predict(data_r21d_testing)"
   ]
  },
  {
   "cell_type": "code",
   "execution_count": 53,
   "metadata": {},
   "outputs": [],
   "source": [
    "filtered_df['label'] = predict_r21d\n",
    "filtered_df.to_csv('./kaggle-results/sanders.csv', index=False)"
   ]
  }
 ],
 "metadata": {
  "kernelspec": {
   "display_name": "env",
   "language": "python",
   "name": "python3"
  },
  "language_info": {
   "codemirror_mode": {
    "name": "ipython",
    "version": 3
   },
   "file_extension": ".py",
   "mimetype": "text/x-python",
   "name": "python",
   "nbconvert_exporter": "python",
   "pygments_lexer": "ipython3",
   "version": "3.10.12"
  }
 },
 "nbformat": 4,
 "nbformat_minor": 2
}
